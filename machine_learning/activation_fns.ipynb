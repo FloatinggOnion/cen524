{
 "cells": [
  {
   "cell_type": "code",
   "execution_count": 1,
   "id": "0b7430cf",
   "metadata": {},
   "outputs": [],
   "source": [
    "import numpy as np"
   ]
  },
  {
   "cell_type": "code",
   "execution_count": 2,
   "id": "2af99f82",
   "metadata": {},
   "outputs": [
    {
     "data": {
      "text/plain": [
       "array([1.2 , 0.9 , 0.75, 0.8 , 1.5 ])"
      ]
     },
     "execution_count": 2,
     "metadata": {},
     "output_type": "execute_result"
    }
   ],
   "source": [
    "x = np.array([1.2, 0.9, 0.75, 0.8, 1.5])\n",
    "x"
   ]
  },
  {
   "cell_type": "markdown",
   "id": "5ba4c43f",
   "metadata": {},
   "source": [
    "##### Softmax"
   ]
  },
  {
   "cell_type": "markdown",
   "id": "02df728d",
   "metadata": {},
   "source": [
    "Returns the probability of each class, with the target class having the highest probability."
   ]
  },
  {
   "cell_type": "code",
   "execution_count": 7,
   "id": "4e8f7e94",
   "metadata": {},
   "outputs": [
    {
     "data": {
      "text/plain": [
       "array([0.22734376, 0.1684204 , 0.14496078, 0.15239308, 0.30688198])"
      ]
     },
     "execution_count": 7,
     "metadata": {},
     "output_type": "execute_result"
    }
   ],
   "source": [
    "f_softmax = np.exp(x) / np.sum(np.exp(x))\n",
    "f_softmax"
   ]
  },
  {
   "cell_type": "markdown",
   "id": "05f5609c",
   "metadata": {},
   "source": [
    "##### ReLU"
   ]
  },
  {
   "cell_type": "markdown",
   "id": "5df14a69",
   "metadata": {},
   "source": [
    "This function rectifies the values of the inputs that are less than zero by forcing them to zero(thus eliminating the vanishing gradient problem) and if the input is greater than 0, the output is equal to the input."
   ]
  },
  {
   "cell_type": "code",
   "execution_count": 8,
   "id": "e776b5f3",
   "metadata": {},
   "outputs": [
    {
     "data": {
      "text/plain": [
       "array([1.2 , 0.9 , 0.75, 0.8 , 1.5 ])"
      ]
     },
     "execution_count": 8,
     "metadata": {},
     "output_type": "execute_result"
    }
   ],
   "source": [
    "f_relu = np.maximum(0, x)\n",
    "f_relu"
   ]
  },
  {
   "cell_type": "markdown",
   "id": "2ffc8c38",
   "metadata": {},
   "source": [
    "##### Bipolar Sigmoid (𝜎 = 1)"
   ]
  },
  {
   "cell_type": "markdown",
   "id": "4e3275f5",
   "metadata": {},
   "source": [
    "The range of output for this function is from -1 to 1. It is closely related to the hyperbolic tangent function. It can be used as the activation function when the desired output range is between -1 and 1."
   ]
  },
  {
   "cell_type": "code",
   "execution_count": 9,
   "id": "7e709cfa",
   "metadata": {},
   "outputs": [
    {
     "data": {
      "text/plain": [
       "array([0.53704957, 0.42189901, 0.3583574 , 0.37994896, 0.63514895])"
      ]
     },
     "execution_count": 9,
     "metadata": {},
     "output_type": "execute_result"
    }
   ],
   "source": [
    "f_bip_sig = (1 - np.exp(-x)) / (1 + np.exp(-x))\n",
    "f_bip_sig"
   ]
  },
  {
   "cell_type": "code",
   "execution_count": null,
   "id": "b9cc81fd",
   "metadata": {},
   "outputs": [],
   "source": []
  }
 ],
 "metadata": {
  "kernelspec": {
   "display_name": "Python 3",
   "language": "python",
   "name": "python3"
  },
  "language_info": {
   "codemirror_mode": {
    "name": "ipython",
    "version": 3
   },
   "file_extension": ".py",
   "mimetype": "text/x-python",
   "name": "python",
   "nbconvert_exporter": "python",
   "pygments_lexer": "ipython3",
   "version": "3.12.9"
  }
 },
 "nbformat": 4,
 "nbformat_minor": 5
}
